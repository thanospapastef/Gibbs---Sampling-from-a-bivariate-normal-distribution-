{
  "nbformat": 4,
  "nbformat_minor": 0,
  "metadata": {
    "colab": {
      "name": "Sampling from a bivariate normal distribution with Gibbs",
      "provenance": [],
      "include_colab_link": true
    },
    "kernelspec": {
      "name": "python3",
      "display_name": "Python 3"
    },
    "language_info": {
      "name": "python"
    }
  },
  "cells": [
    {
      "cell_type": "markdown",
      "metadata": {
        "id": "view-in-github",
        "colab_type": "text"
      },
      "source": [
        "<a href=\"https://colab.research.google.com/github/thanospapastef/Gibbs---Sampling-from-a-bivariate-normal-distribution-/blob/main/Sampling_from_a_bivariate_normal_distribution_with_Gibbs.ipynb\" target=\"_parent\"><img src=\"https://colab.research.google.com/assets/colab-badge.svg\" alt=\"Open In Colab\"/></a>"
      ]
    },
    {
      "cell_type": "code",
      "metadata": {
        "id": "aHPvAHscD5kZ"
      },
      "source": [
        "import numpy as np"
      ],
      "execution_count": 1,
      "outputs": []
    },
    {
      "cell_type": "code",
      "metadata": {
        "id": "_jzoIp-3nl8E"
      },
      "source": [
        "def mu(x): \n",
        "  return 0.8 * x"
      ],
      "execution_count": 2,
      "outputs": []
    },
    {
      "cell_type": "code",
      "metadata": {
        "id": "3V-qMczEpHpk"
      },
      "source": [
        "N = 50000\n",
        "sample_X = np.zeros(N)\n",
        "sample_Y = np.zeros(N)\n",
        "sample = np.zeros((N, 2))\n",
        "X_sqr = np.zeros(N)\n",
        "Y_sqr = np.zeros(N)\n",
        "sample_X[0] = 0.9\n",
        "sample_Y[0] = 0.7\n",
        "X_sqr[0] = sample_X[0] ** 2\n",
        "Y_sqr[0] = sample_Y[0] ** 2\n",
        "sample[0] = sample_X[0], sample_Y[0]\n",
        "j = 0\n",
        "var = 0.36\n",
        "\n",
        "#Gibbs for multivariate distribution\n",
        "for i in range(1, N):\n",
        " \n",
        "  sample_X[i] = np.random.normal(mu(sample_Y[i-1]), np.sqrt(var))\n",
        "  sample_Y[i] = np.random.normal(mu(sample_X[i]), np.sqrt(var))\n",
        "  sample[i] = sample_X[i], sample_Y[i]\n",
        "  X_sqr[i] = sample_X[i] ** 2\n",
        "  Y_sqr[i] = sample_Y[i] ** 2\n",
        "  if X_sqr[i] + Y_sqr[i] > 1:\n",
        "    j = j + 1 #we count the times where it is true that (X^2 + Y^2 > 1)"
      ],
      "execution_count": 3,
      "outputs": []
    },
    {
      "cell_type": "code",
      "metadata": {
        "id": "ohfRjWMNqNJR"
      },
      "source": [
        "prob = (j / (N-1)) * 100\n",
        "print ('P(X^2 + Y^2 > 1) = ', prob,'%')"
      ],
      "execution_count": null,
      "outputs": []
    },
    {
      "cell_type": "code",
      "metadata": {
        "id": "SJe4aNfxpfI-"
      },
      "source": [
        "np.mean(X_sqr)"
      ],
      "execution_count": null,
      "outputs": []
    },
    {
      "cell_type": "code",
      "metadata": {
        "id": "5AigVwrotO2r"
      },
      "source": [
        "np.mean(Y_sqr)"
      ],
      "execution_count": null,
      "outputs": []
    },
    {
      "cell_type": "code",
      "metadata": {
        "id": "25VQ0VGp-3jr"
      },
      "source": [
        "sample"
      ],
      "execution_count": null,
      "outputs": []
    }
  ]
}