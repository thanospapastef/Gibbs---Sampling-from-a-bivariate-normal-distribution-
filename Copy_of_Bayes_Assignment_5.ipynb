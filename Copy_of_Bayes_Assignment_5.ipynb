{
  "nbformat": 4,
  "nbformat_minor": 0,
  "metadata": {
    "colab": {
      "name": "Copy of Bayes Assignment 5",
      "provenance": [],
      "include_colab_link": true
    },
    "kernelspec": {
      "name": "python3",
      "display_name": "Python 3"
    },
    "language_info": {
      "name": "python"
    }
  },
  "cells": [
    {
      "cell_type": "markdown",
      "metadata": {
        "id": "view-in-github",
        "colab_type": "text"
      },
      "source": [
        "<a href=\"https://colab.research.google.com/github/thanospapastef/Gibbs---Sampling-from-a-bivariate-normal-distribution-/blob/main/Copy_of_Bayes_Assignment_5.ipynb\" target=\"_parent\"><img src=\"https://colab.research.google.com/assets/colab-badge.svg\" alt=\"Open In Colab\"/></a>"
      ]
    },
    {
      "cell_type": "code",
      "metadata": {
        "id": "aHPvAHscD5kZ"
      },
      "source": [
        "import numpy as np\n",
        "import scipy as sp\n",
        "import matplotlib.pyplot as plt\n",
        "import pandas as pd\n",
        "import seaborn as sns"
      ],
      "execution_count": 1,
      "outputs": []
    },
    {
      "cell_type": "code",
      "metadata": {
        "id": "_jzoIp-3nl8E"
      },
      "source": [
        "def mu(x): \n",
        "  return 0.8 * x"
      ],
      "execution_count": 2,
      "outputs": []
    },
    {
      "cell_type": "code",
      "metadata": {
        "id": "3V-qMczEpHpk"
      },
      "source": [
        "N = 50000\n",
        "sample_X = np.zeros(N)\n",
        "sample_Y = np.zeros(N)\n",
        "sample = np.zeros((N, 2))\n",
        "X_sqr = np.zeros(N)\n",
        "Y_sqr = np.zeros(N)\n",
        "sample_X[0] = 0.9\n",
        "sample_Y[0] = 0.7\n",
        "X_sqr[0] = sample_X[0] ** 2\n",
        "Y_sqr[0] = sample_Y[0] ** 2\n",
        "sample[0] = sample_X[0], sample_Y[0]\n",
        "j = 0\n",
        "var = 0.36\n",
        "\n",
        "#Gibbs for multivariate distribution\n",
        "for i in range(1, N):\n",
        " \n",
        "    sample_X[i] = np.random.normal(mu(sample_Y[i-1]), np.sqrt(var))\n",
        "    sample_Y[i] = np.random.normal(mu(sample_X[i]), np.sqrt(var))\n",
        "    sample[i] = sample_X[i], sample_Y[i]\n",
        "    X_sqr[i] = sample_X[i] ** 2\n",
        "    Y_sqr[i] = sample_Y[i] ** 2\n",
        "    if X_sqr[i] + Y_sqr[i] > 1:\n",
        "      j = j + 1 #we count the times where it is true that (X^2 + Y^2 > 1)"
      ],
      "execution_count": 3,
      "outputs": []
    },
    {
      "cell_type": "code",
      "metadata": {
        "colab": {
          "base_uri": "https://localhost:8080/"
        },
        "id": "ohfRjWMNqNJR",
        "outputId": "543f092d-1640-432c-be55-f1c27ab08c34"
      },
      "source": [
        "prob = (j / (N-1)) * 100\n",
        "print ('P(X^2 + Y^2 > 1) = ', prob,'%')"
      ],
      "execution_count": 4,
      "outputs": [
        {
          "output_type": "stream",
          "name": "stdout",
          "text": [
            "P(X^2 + Y^2 > 1) =  51.96903938078762 %\n"
          ]
        }
      ]
    },
    {
      "cell_type": "code",
      "metadata": {
        "colab": {
          "base_uri": "https://localhost:8080/"
        },
        "id": "SJe4aNfxpfI-",
        "outputId": "3aad94d8-55b9-41f4-b628-55689dbfc09b"
      },
      "source": [
        "np.mean(X_sqr)"
      ],
      "execution_count": 5,
      "outputs": [
        {
          "output_type": "execute_result",
          "data": {
            "text/plain": [
              "1.0011926038074417"
            ]
          },
          "metadata": {},
          "execution_count": 5
        }
      ]
    },
    {
      "cell_type": "code",
      "metadata": {
        "colab": {
          "base_uri": "https://localhost:8080/"
        },
        "id": "5AigVwrotO2r",
        "outputId": "e9b6e755-21b3-4356-f106-5ca223b9c4f8"
      },
      "source": [
        "np.mean(Y_sqr)"
      ],
      "execution_count": 6,
      "outputs": [
        {
          "output_type": "execute_result",
          "data": {
            "text/plain": [
              "1.0077581573155467"
            ]
          },
          "metadata": {},
          "execution_count": 6
        }
      ]
    },
    {
      "cell_type": "code",
      "metadata": {
        "colab": {
          "base_uri": "https://localhost:8080/"
        },
        "id": "25VQ0VGp-3jr",
        "outputId": "bb38e498-a860-4353-a4a7-caa893d1facb"
      },
      "source": [
        "sample"
      ],
      "execution_count": 7,
      "outputs": [
        {
          "output_type": "execute_result",
          "data": {
            "text/plain": [
              "array([[ 0.9       ,  0.7       ],\n",
              "       [ 0.03025086, -0.07024042],\n",
              "       [-0.61961741,  0.05166849],\n",
              "       ...,\n",
              "       [-0.92275331, -0.10453163],\n",
              "       [ 0.18975954, -0.96989039],\n",
              "       [-1.26846802, -1.34941089]])"
            ]
          },
          "metadata": {},
          "execution_count": 7
        }
      ]
    },
    {
      "cell_type": "code",
      "source": [
        ""
      ],
      "metadata": {
        "id": "5r29CaqV4mRc"
      },
      "execution_count": null,
      "outputs": []
    }
  ]
}